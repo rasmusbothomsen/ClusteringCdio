{
 "cells": [
  {
   "cell_type": "code",
   "execution_count": 1,
   "metadata": {},
   "outputs": [
    {
     "data": {
      "text/plain": [
       "True"
      ]
     },
     "execution_count": 1,
     "metadata": {},
     "output_type": "execute_result"
    }
   ],
   "source": [
    "import cv2\n",
    "import os\n",
    "import time\n",
    "\n",
    "\n",
    "\n",
    "# Initialize the video capture object\n",
    "cap = cv2.VideoCapture(1)\n",
    "\n",
    "\n",
    "# Set the video capture resolution to 640x480\n",
    "cap.set(cv2.CAP_PROP_FRAME_WIDTH, 1920)\n",
    "cap.set(cv2.CAP_PROP_FRAME_HEIGHT, 1080)\n",
    "\n",
    "# Start the image capture loop\n",
    "\n",
    "\n"
   ]
  },
  {
   "cell_type": "code",
   "execution_count": 29,
   "metadata": {},
   "outputs": [
    {
     "name": "stdout",
     "output_type": "stream",
     "text": [
      "166\n",
      "167\n",
      "168\n",
      "169\n",
      "170\n",
      "171\n"
     ]
    }
   ],
   "source": [
    "# Define the duration of the capture in seconds\n",
    "duration = 6\n",
    "\n",
    "# Define the interval at which to capture images in seconds\n",
    "interval = 1\n",
    "\n",
    "# Create a directory to store the captured images\n",
    "\n",
    "\n",
    "# Initialize a counter for the image file names\n",
    "image_counter = 136\n",
    "\n",
    "time.sleep(2)\n",
    "\n",
    "start_time = time.time()\n",
    "\n",
    "\n",
    "while (time.time() - start_time) < duration:\n",
    "    # Capture an image from the webcam\n",
    "    ret, frame = cap.read()\n",
    "\n",
    "    # Check if the image was captured successfully\n",
    "    if ret:\n",
    "        # Save the image to a file\n",
    "        print(image_counter)\n",
    "        filename = f\"train_images/trainImage{image_counter}.jpg\"\n",
    "        cv2.imwrite(filename, frame)\n",
    "\n",
    "        # Increment the image counter\n",
    "        image_counter += 1\n",
    "\n",
    "        # Wait for the specified interval before capturing the next image\n",
    "        time.sleep(interval)\n",
    "\n",
    "# Release the video capture object and close the window\n"
   ]
  },
  {
   "cell_type": "code",
   "execution_count": null,
   "metadata": {},
   "outputs": [],
   "source": [
    "cap.release()\n",
    "cv2.destroyAllWindows()"
   ]
  }
 ],
 "metadata": {
  "kernelspec": {
   "display_name": "PyTorch",
   "language": "python",
   "name": "python3"
  },
  "language_info": {
   "codemirror_mode": {
    "name": "ipython",
    "version": 3
   },
   "file_extension": ".py",
   "mimetype": "text/x-python",
   "name": "python",
   "nbconvert_exporter": "python",
   "pygments_lexer": "ipython3",
   "version": "3.9.16"
  },
  "orig_nbformat": 4
 },
 "nbformat": 4,
 "nbformat_minor": 2
}
